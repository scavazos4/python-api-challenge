{
 "cells": [
  {
   "cell_type": "code",
   "execution_count": null,
   "metadata": {},
   "outputs": [],
   "source": [
    "# Dependencies\n",
    "import requests\n",
    "import json\n",
    "import matplotlib.pyplot as plt\n",
    "from scipy import stats\n",
    "import pandas as pd\n",
    "#!pip install citipy\n",
    "from pprint import pprint\n",
    "import random\n",
    "from citipy import citipy\n",
    "\n",
    "\n",
    "\n",
    "\n",
    "\n",
    "\n",
    "\n",
    "print(wkey)"
   ]
  },
  {
   "cell_type": "code",
   "execution_count": null,
   "metadata": {},
   "outputs": [],
   "source": [
    "# Save config information.\n",
    "url = \"http://api.openweathermap.org/data/2.5/box/city?\"\n",
    "units = \"imperial\"\n",
    "bbox = \"-180,-90,180,90,10\"\n",
    "# Build partial query URL\n",
    "query_url = f\"{url}bbox={bbox}&appid={wkey}&units={units}&q=\"\n",
    "\n"
   ]
  },
  {
   "cell_type": "code",
   "execution_count": null,
   "metadata": {},
   "outputs": [],
   "source": []
  },
  {
   "cell_type": "code",
   "execution_count": null,
   "metadata": {},
   "outputs": [],
   "source": [
    "response = requests.get(query_url).json()\n",
    "pprint(response)"
   ]
  },
  {
   "cell_type": "code",
   "execution_count": 48,
   "metadata": {},
   "outputs": [],
   "source": [
    "#attempt at loop\n",
    "city =[]\n",
    "lat= [] \n",
    "long= []\n",
    "temp= [] \n",
    "humidty= [] \n",
    "speed= []\n",
    "cloudiness = []\n",
    "\n",
    "for cityID in stringCities:\n",
    "    response = requests.get(url + cityID + query_url).json()\n",
    "    city.append(response['name'])\n",
    "    lat.append(response[\"coord\"][\"lat\"])\n",
    "    long.append(response[\"coord\"][\"long\"])\n",
    "    temp.append(response[\"main\"][\"temp\"])\n",
    "    humidty.append(response[\"main\"][\"humidity\"])\n",
    "    speed.append(response[\"main\"][\"speed\"])\n",
    "    cloudiness.append(response[\"clouds\"][\"all\"])\n",
    "\n"
   ]
  },
  {
   "cell_type": "code",
   "execution_count": 49,
   "metadata": {},
   "outputs": [
    {
     "data": {
      "text/html": [
       "<div>\n",
       "<style scoped>\n",
       "    .dataframe tbody tr th:only-of-type {\n",
       "        vertical-align: middle;\n",
       "    }\n",
       "\n",
       "    .dataframe tbody tr th {\n",
       "        vertical-align: top;\n",
       "    }\n",
       "\n",
       "    .dataframe thead th {\n",
       "        text-align: right;\n",
       "    }\n",
       "</style>\n",
       "<table border=\"1\" class=\"dataframe\">\n",
       "  <thead>\n",
       "    <tr style=\"text-align: right;\">\n",
       "      <th></th>\n",
       "      <th>city</th>\n",
       "      <th>lat</th>\n",
       "      <th>long</th>\n",
       "      <th>temp</th>\n",
       "      <th>humidity (%)</th>\n",
       "      <th>speed</th>\n",
       "      <th>cloudiness</th>\n",
       "    </tr>\n",
       "  </thead>\n",
       "  <tbody>\n",
       "  </tbody>\n",
       "</table>\n",
       "</div>"
      ],
      "text/plain": [
       "Empty DataFrame\n",
       "Columns: [city, lat, long, temp, humidity (%), speed, cloudiness]\n",
       "Index: []"
      ]
     },
     "execution_count": 49,
     "metadata": {},
     "output_type": "execute_result"
    }
   ],
   "source": [
    "\n",
    "weatherDict = {\n",
    "    \"city\": city,\n",
    "    \"lat\": lat,\n",
    "    \"long\": long,\n",
    "    \"temp\": temp,\n",
    "    \"humidity (%)\": humidty,\n",
    "    \"speed\": speed,\n",
    "    \"cloudiness\": cloudiness\n",
    "}\n",
    "\n",
    "weatherData = pd.DataFrame(weatherDict)\n",
    "weatherData.head()"
   ]
  },
  {
   "cell_type": "code",
   "execution_count": null,
   "metadata": {},
   "outputs": [],
   "source": []
  }
 ],
 "metadata": {
  "kernelspec": {
   "display_name": "Python 3",
   "language": "python",
   "name": "python3"
  },
  "language_info": {
   "codemirror_mode": {
    "name": "ipython",
    "version": 3
   },
   "file_extension": ".py",
   "mimetype": "text/x-python",
   "name": "python",
   "nbconvert_exporter": "python",
   "pygments_lexer": "ipython3",
   "version": "3.8.5"
  }
 },
 "nbformat": 4,
 "nbformat_minor": 4
}
